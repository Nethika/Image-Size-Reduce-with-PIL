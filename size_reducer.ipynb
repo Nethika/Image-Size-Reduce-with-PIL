{
 "cells": [
  {
   "cell_type": "code",
   "execution_count": 44,
   "metadata": {},
   "outputs": [
    {
     "name": "stdout",
     "output_type": "stream",
     "text": [
      "Converting the size of images:\n",
      "   large_images\\IMG_6969.JPG\n",
      "   large_images\\IMG_6972.JPG\n",
      "   large_images\\IMG_6973.JPG\n",
      "   large_images\\IMG_6974.JPG\n",
      "   large_images\\IMG_6975.JPG\n",
      "   large_images\\IMG_6981.JPG\n",
      "   large_images\\IMG_6983.JPG\n",
      "   large_images\\IMG_6987.JPG\n",
      "   large_images\\IMG_6989.JPG\n",
      "   large_images\\IMG_6993.JPG\n",
      "   large_images\\IMG_6995.JPG\n"
     ]
    }
   ],
   "source": [
    "import os\n",
    "import numpy as np\n",
    "from PIL import Image\n",
    "import time\n",
    "\n",
    "timestr = time.strftime(\"%Y_%m_%d-%H_%M_%S\")\n",
    "\n",
    "folder_path = \"large_images\"\n",
    "image_width = 200\n",
    "result_path =  \"small_images_\" + timestr\n",
    "\n",
    "if not os.path.exists(result_path):\n",
    "    os.makedirs(result_path)\n",
    "\n",
    "ext = (\".jpg\", \".png\", \".jpeg\", \".gif\", \".bmp\")\n",
    "files = [file for file in os.listdir(folder_path) if file.lower().endswith(ext)]\n",
    "\n",
    "print (\"Converting the size of images:\")\n",
    "for f in files:\n",
    "    input_path = os.path.join(folder_path,str(f))\n",
    "    print(\"   \" + input_path)\n",
    "    input_img = Image.open(input_path)\n",
    "    \n",
    "    # calculate image height\n",
    "    input_width = input_img.width\n",
    "    input_height = input_img.height\n",
    "    factor = input_height / input_width \n",
    "    image_height = int(factor * image_width)\n",
    "    \n",
    "    # resize\n",
    "    img = input_img.resize((image_width, image_height), Image.ANTIALIAS)\n",
    "    \n",
    "    #fix orientation\n",
    "    if hasattr(input_img, '_getexif'):\n",
    "        orientation = 0x0112\n",
    "        exif = input_img._getexif()\n",
    "        if exif is not None:\n",
    "            orientation = exif[orientation]\n",
    "            rotations = {\n",
    "                3: Image.ROTATE_180,\n",
    "                6: Image.ROTATE_270,\n",
    "                8: Image.ROTATE_90\n",
    "            }\n",
    "            if orientation in rotations:\n",
    "                img= img.transpose(rotations[orientation])\n",
    "            \n",
    "    \n",
    "    # save\n",
    "    filename = os.path.join(result_path, str(f))\n",
    "    img.save(filename, quality=100)\n",
    "\n"
   ]
  },
  {
   "cell_type": "code",
   "execution_count": 39,
   "metadata": {
    "collapsed": true
   },
   "outputs": [],
   "source": [
    "ext = (\".jpg\", \".png\", \".jpeg\", \".gif\", \".bmp\")"
   ]
  },
  {
   "cell_type": "code",
   "execution_count": 40,
   "metadata": {
    "collapsed": true
   },
   "outputs": [],
   "source": [
    "filelist= [file for file in os.listdir(folder_path) if file.lower().endswith(ext)]"
   ]
  },
  {
   "cell_type": "code",
   "execution_count": 41,
   "metadata": {},
   "outputs": [
    {
     "data": {
      "text/plain": [
       "['IMG_6969.JPG',\n",
       " 'IMG_6972.JPG',\n",
       " 'IMG_6973.JPG',\n",
       " 'IMG_6974.JPG',\n",
       " 'IMG_6975.JPG',\n",
       " 'IMG_6981.JPG',\n",
       " 'IMG_6983.JPG',\n",
       " 'IMG_6987.JPG',\n",
       " 'IMG_6989.JPG',\n",
       " 'IMG_6993.JPG',\n",
       " 'IMG_6995.JPG']"
      ]
     },
     "execution_count": 41,
     "metadata": {},
     "output_type": "execute_result"
    }
   ],
   "source": [
    "filelist"
   ]
  },
  {
   "cell_type": "code",
   "execution_count": 30,
   "metadata": {},
   "outputs": [
    {
     "data": {
      "text/plain": [
       "('.jpg', '.png', '.jpeg', '.gif', '.JPG')"
      ]
     },
     "execution_count": 30,
     "metadata": {},
     "output_type": "execute_result"
    }
   ],
   "source": [
    "tuple(ext)"
   ]
  },
  {
   "cell_type": "code",
   "execution_count": 33,
   "metadata": {},
   "outputs": [
    {
     "data": {
      "text/plain": [
       "('.jpg', '.png', '.jpeg', '.gif', '.JPG')"
      ]
     },
     "execution_count": 33,
     "metadata": {},
     "output_type": "execute_result"
    }
   ],
   "source": [
    "ext"
   ]
  },
  {
   "cell_type": "code",
   "execution_count": 42,
   "metadata": {
    "collapsed": true
   },
   "outputs": [],
   "source": [
    "files =  os.listdir(folder_path)"
   ]
  },
  {
   "cell_type": "code",
   "execution_count": 43,
   "metadata": {},
   "outputs": [
    {
     "data": {
      "text/plain": [
       "['IMG_6969.JPG',\n",
       " 'IMG_6972.JPG',\n",
       " 'IMG_6973.JPG',\n",
       " 'IMG_6974.JPG',\n",
       " 'IMG_6975.JPG',\n",
       " 'IMG_6981.JPG',\n",
       " 'IMG_6983.JPG',\n",
       " 'IMG_6987.JPG',\n",
       " 'IMG_6989.JPG',\n",
       " 'IMG_6993.JPG',\n",
       " 'IMG_6995.JPG']"
      ]
     },
     "execution_count": 43,
     "metadata": {},
     "output_type": "execute_result"
    }
   ],
   "source": [
    "files"
   ]
  },
  {
   "cell_type": "code",
   "execution_count": 45,
   "metadata": {},
   "outputs": [
    {
     "data": {
      "text/plain": [
       "tuple"
      ]
     },
     "execution_count": 45,
     "metadata": {},
     "output_type": "execute_result"
    }
   ],
   "source": [
    "type(ext)"
   ]
  },
  {
   "cell_type": "code",
   "execution_count": null,
   "metadata": {
    "collapsed": true
   },
   "outputs": [],
   "source": []
  }
 ],
 "metadata": {
  "kernelspec": {
   "display_name": "Python 3",
   "language": "python",
   "name": "python3"
  },
  "language_info": {
   "codemirror_mode": {
    "name": "ipython",
    "version": 3
   },
   "file_extension": ".py",
   "mimetype": "text/x-python",
   "name": "python",
   "nbconvert_exporter": "python",
   "pygments_lexer": "ipython3",
   "version": "3.6.3"
  }
 },
 "nbformat": 4,
 "nbformat_minor": 2
}
